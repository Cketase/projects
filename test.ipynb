{
 "cells": [
  {
   "cell_type": "markdown",
   "metadata": {},
   "source": [
    "gsheet_api_check() function. It looks for an existing token.pickle file (which stores our user access and refresh tokens). If no token.pickle file is found, the function will prompt you to log into your Google Gmail account. The credentials.json must be present in your working directory to initiate token.pickle creation/refresh. The function will specify and return the credentials we’ll use to make API calls #google\n",
    "\n",
    "Next we’ll define a function that makes the API call and pulls the data we want from Google Sheets. The pull_sheet_data() function establishes the API call and pulls the data we want. If no data is found the function will print “No data found.”, otherwise it will confirm the data has been retrieved by printing “COMPLETE: Data Copied” and return our data #googled it too"
   ]
  },
  {
   "cell_type": "code",
   "execution_count": 33,
   "metadata": {},
   "outputs": [],
   "source": [
    "import pandas as pd\n",
    "import pickle\n",
    "import matplotlib as plt\n",
    "import os.path\n",
    "import numpy as np\n",
    "import datetime\n",
    "from google_auth_oauthlib.flow import InstalledAppFlow\n",
    "from google.auth.transport.requests import Request\n",
    "from googleapiclient.discovery import build\n",
    "\n",
    "def gsheet_api_check(SCOPES):\n",
    "    creds = None\n",
    "    if os.path.exists('token.pickle'):\n",
    "        with open('token.pickle', 'rb') as token:\n",
    "            creds = pickle.load(token)\n",
    "    if not creds or not creds.valid:\n",
    "        if creds and creds.expired and creds.refresh_token:\n",
    "            creds.refresh(Request())\n",
    "        else:\n",
    "            flow = InstalledAppFlow.from_client_secrets_file(\n",
    "                'credentials.json', SCOPES)\n",
    "            creds = flow.run_local_server(port=0)\n",
    "        with open('token.pickle', 'wb') as token:\n",
    "            pickle.dump(creds, token)\n",
    "    return creds\n",
    "\n",
    "def pull_sheet_data(SCOPES,SPREADSHEET_ID,RANGE_NAME):\n",
    "    creds = gsheet_api_check(SCOPES)\n",
    "    service = build('sheets', 'v4', credentials=creds)\n",
    "    sheet = service.spreadsheets()\n",
    "    result = sheet.values().get(\n",
    "        spreadsheetId=SPREADSHEET_ID,\n",
    "        range=RANGE_NAME).execute()\n",
    "    values = result.get('values', [])\n",
    "    \n",
    "    if not values:\n",
    "        print('No data found.')\n",
    "    else:\n",
    "        rows = sheet.values().get(spreadsheetId=SPREADSHEET_ID,\n",
    "                                  range=RANGE_NAME).execute()\n",
    "        data = rows.get('values')\n",
    "        print(\"COMPLETE: Data copied\")\n",
    "        return data\n",
    "\n"
   ]
  },
  {
   "cell_type": "markdown",
   "metadata": {},
   "source": [
    "Next we need to find and copy the ID of the spreadsheet. \n",
    "Second, we’ll need the name of the spreadsheet tab from which we’ll pull the data from."
   ]
  },
  {
   "cell_type": "code",
   "execution_count": 2,
   "metadata": {},
   "outputs": [
    {
     "name": "stdout",
     "output_type": "stream",
     "text": [
      "COMPLETE: Data copied\n",
      "COMPLETE: Data copied\n",
      "COMPLETE: Data copied\n",
      "COMPLETE: Data copied\n"
     ]
    }
   ],
   "source": [
    "SCOPES = ['https://www.googleapis.com/auth/spreadsheets']    \n",
    "SPREADSHEET_ID = '1Ycg7zTxds9DZnDvTrFcyNNKuTUxg6Yy6WF0a8Wc02WQ'\n",
    "RANGE_NAME = 'transactions'\n",
    "data = pull_sheet_data(SCOPES,SPREADSHEET_ID,RANGE_NAME)\n",
    "transactions = pd.DataFrame(data[1:], columns=data[0])\n",
    "\n",
    "RANGE_NAME = 'clients'\n",
    "data = pull_sheet_data(SCOPES,SPREADSHEET_ID,RANGE_NAME)\n",
    "clients = pd.DataFrame(data[1:], columns=data[0])\n",
    "\n",
    "RANGE_NAME = 'managers'\n",
    "data = pull_sheet_data(SCOPES,SPREADSHEET_ID,RANGE_NAME)\n",
    "managers = pd.DataFrame(data[1:], columns=data[0])\n",
    "\n",
    "RANGE_NAME = 'leads'\n",
    "data = pull_sheet_data(SCOPES,SPREADSHEET_ID,RANGE_NAME)\n",
    "leads = pd.DataFrame(data[1:], columns=data[0])\n"
   ]
  },
  {
   "cell_type": "code",
   "execution_count": 3,
   "metadata": {},
   "outputs": [
    {
     "data": {
      "text/html": [
       "<div>\n",
       "<style scoped>\n",
       "    .dataframe tbody tr th:only-of-type {\n",
       "        vertical-align: middle;\n",
       "    }\n",
       "\n",
       "    .dataframe tbody tr th {\n",
       "        vertical-align: top;\n",
       "    }\n",
       "\n",
       "    .dataframe thead th {\n",
       "        text-align: right;\n",
       "    }\n",
       "</style>\n",
       "<table border=\"1\" class=\"dataframe\">\n",
       "  <thead>\n",
       "    <tr style=\"text-align: right;\">\n",
       "      <th></th>\n",
       "      <th>transaction_id</th>\n",
       "      <th>created_at</th>\n",
       "      <th>m_real_amount</th>\n",
       "      <th>l_client_id</th>\n",
       "    </tr>\n",
       "  </thead>\n",
       "  <tbody>\n",
       "    <tr>\n",
       "      <th>0</th>\n",
       "      <td>2c9f1527-8e7f-4fb1-8000-c747a2ab46c9</td>\n",
       "      <td>2020-09-30 07:15:14</td>\n",
       "      <td>31</td>\n",
       "      <td>8a805e60-6fd6-11e7-80fc-c412f533dba1</td>\n",
       "    </tr>\n",
       "  </tbody>\n",
       "</table>\n",
       "</div>"
      ],
      "text/plain": [
       "                         transaction_id           created_at m_real_amount  \\\n",
       "0  2c9f1527-8e7f-4fb1-8000-c747a2ab46c9  2020-09-30 07:15:14            31   \n",
       "\n",
       "                            l_client_id  \n",
       "0  8a805e60-6fd6-11e7-80fc-c412f533dba1  "
      ]
     },
     "execution_count": 3,
     "metadata": {},
     "output_type": "execute_result"
    }
   ],
   "source": [
    "#getting info about our 4 datasets\n",
    "transactions.head(1)"
   ]
  },
  {
   "cell_type": "code",
   "execution_count": 4,
   "metadata": {},
   "outputs": [
    {
     "data": {
      "text/html": [
       "<div>\n",
       "<style scoped>\n",
       "    .dataframe tbody tr th:only-of-type {\n",
       "        vertical-align: middle;\n",
       "    }\n",
       "\n",
       "    .dataframe tbody tr th {\n",
       "        vertical-align: top;\n",
       "    }\n",
       "\n",
       "    .dataframe thead th {\n",
       "        text-align: right;\n",
       "    }\n",
       "</style>\n",
       "<table border=\"1\" class=\"dataframe\">\n",
       "  <thead>\n",
       "    <tr style=\"text-align: right;\">\n",
       "      <th></th>\n",
       "      <th>client_id</th>\n",
       "      <th>created_at</th>\n",
       "      <th>l_manager_id</th>\n",
       "    </tr>\n",
       "  </thead>\n",
       "  <tbody>\n",
       "    <tr>\n",
       "      <th>0</th>\n",
       "      <td>0001da7d-fcda-11ea-ac18-c412f533dba1</td>\n",
       "      <td>2020-09-22 17:46:23</td>\n",
       "      <td>9a87c608-52dc-11ea-abeb-c412f533dba1</td>\n",
       "    </tr>\n",
       "  </tbody>\n",
       "</table>\n",
       "</div>"
      ],
      "text/plain": [
       "                              client_id           created_at  \\\n",
       "0  0001da7d-fcda-11ea-ac18-c412f533dba1  2020-09-22 17:46:23   \n",
       "\n",
       "                           l_manager_id  \n",
       "0  9a87c608-52dc-11ea-abeb-c412f533dba1  "
      ]
     },
     "execution_count": 4,
     "metadata": {},
     "output_type": "execute_result"
    }
   ],
   "source": [
    "clients.head(1)"
   ]
  },
  {
   "cell_type": "code",
   "execution_count": 5,
   "metadata": {},
   "outputs": [
    {
     "data": {
      "text/html": [
       "<div>\n",
       "<style scoped>\n",
       "    .dataframe tbody tr th:only-of-type {\n",
       "        vertical-align: middle;\n",
       "    }\n",
       "\n",
       "    .dataframe tbody tr th {\n",
       "        vertical-align: top;\n",
       "    }\n",
       "\n",
       "    .dataframe thead th {\n",
       "        text-align: right;\n",
       "    }\n",
       "</style>\n",
       "<table border=\"1\" class=\"dataframe\">\n",
       "  <thead>\n",
       "    <tr style=\"text-align: right;\">\n",
       "      <th></th>\n",
       "      <th>manager_id</th>\n",
       "      <th>d_manager</th>\n",
       "      <th>d_club</th>\n",
       "    </tr>\n",
       "  </thead>\n",
       "  <tbody>\n",
       "    <tr>\n",
       "      <th>0</th>\n",
       "      <td>1e9c5562-0cfc-11ea-abe1-c412f533dba1</td>\n",
       "      <td>manager #8</td>\n",
       "      <td>club #2</td>\n",
       "    </tr>\n",
       "  </tbody>\n",
       "</table>\n",
       "</div>"
      ],
      "text/plain": [
       "                             manager_id   d_manager   d_club\n",
       "0  1e9c5562-0cfc-11ea-abe1-c412f533dba1  manager #8  club #2"
      ]
     },
     "execution_count": 5,
     "metadata": {},
     "output_type": "execute_result"
    }
   ],
   "source": [
    "managers.head(1)"
   ]
  },
  {
   "cell_type": "code",
   "execution_count": 6,
   "metadata": {},
   "outputs": [
    {
     "data": {
      "text/html": [
       "<div>\n",
       "<style scoped>\n",
       "    .dataframe tbody tr th:only-of-type {\n",
       "        vertical-align: middle;\n",
       "    }\n",
       "\n",
       "    .dataframe tbody tr th {\n",
       "        vertical-align: top;\n",
       "    }\n",
       "\n",
       "    .dataframe thead th {\n",
       "        text-align: right;\n",
       "    }\n",
       "</style>\n",
       "<table border=\"1\" class=\"dataframe\">\n",
       "  <thead>\n",
       "    <tr style=\"text-align: right;\">\n",
       "      <th></th>\n",
       "      <th>lead_id</th>\n",
       "      <th>created_at</th>\n",
       "      <th>d_utm_medium</th>\n",
       "      <th>d_utm_source</th>\n",
       "      <th>l_manager_id</th>\n",
       "      <th>l_client_id</th>\n",
       "    </tr>\n",
       "  </thead>\n",
       "  <tbody>\n",
       "    <tr>\n",
       "      <th>0</th>\n",
       "      <td>00678e71-0fb9-11eb-ac1a-c412f533dba1</td>\n",
       "      <td>2020-10-16 18:08:09</td>\n",
       "      <td>sms</td>\n",
       "      <td>viber</td>\n",
       "      <td>1e9c5562-0cfc-11ea-abe1-c412f533dba1</td>\n",
       "      <td>7264cf21-a31d-11e9-abb0-c412f533dba1</td>\n",
       "    </tr>\n",
       "  </tbody>\n",
       "</table>\n",
       "</div>"
      ],
      "text/plain": [
       "                                lead_id           created_at d_utm_medium  \\\n",
       "0  00678e71-0fb9-11eb-ac1a-c412f533dba1  2020-10-16 18:08:09          sms   \n",
       "\n",
       "  d_utm_source                          l_manager_id  \\\n",
       "0        viber  1e9c5562-0cfc-11ea-abe1-c412f533dba1   \n",
       "\n",
       "                            l_client_id  \n",
       "0  7264cf21-a31d-11e9-abb0-c412f533dba1  "
      ]
     },
     "execution_count": 6,
     "metadata": {},
     "output_type": "execute_result"
    }
   ],
   "source": [
    "leads.head(1)"
   ]
  },
  {
   "cell_type": "code",
   "execution_count": 7,
   "metadata": {},
   "outputs": [],
   "source": [
    "#merge this four datasets and rename some of them. also drop duplicate columns"
   ]
  },
  {
   "cell_type": "code",
   "execution_count": 8,
   "metadata": {},
   "outputs": [
    {
     "name": "stdout",
     "output_type": "stream",
     "text": [
      "<class 'pandas.core.frame.DataFrame'>\n",
      "Int64Index: 105201 entries, 0 to 105200\n",
      "Data columns (total 12 columns):\n",
      " #   Column                Non-Null Count  Dtype \n",
      "---  ------                --------------  ----- \n",
      " 0   lead_id               4295 non-null   object\n",
      " 1   created_at            4295 non-null   object\n",
      " 2   d_utm_medium          4295 non-null   object\n",
      " 3   d_utm_source          4295 non-null   object\n",
      " 4   l_manager_id          4295 non-null   object\n",
      " 5   l_client_id           31616 non-null  object\n",
      " 6   d_manager             3670 non-null   object\n",
      " 7   d_club                3670 non-null   object\n",
      " 8   date_of_registration  77013 non-null  object\n",
      " 9   transaction_id        29289 non-null  object\n",
      " 10  date_of_transaction   29289 non-null  object\n",
      " 11  m_real_amount         29289 non-null  object\n",
      "dtypes: object(12)\n",
      "memory usage: 10.4+ MB\n"
     ]
    }
   ],
   "source": [
    "df = leads.merge(\n",
    "    managers, left_on='l_manager_id', right_on='manager_id', how='outer').merge(\n",
    "    clients, left_on='l_client_id', right_on='client_id', how='outer').merge(\n",
    "    transactions, on='l_client_id', how='outer'\n",
    ")\n",
    "df = df.rename(columns={\"l_manager_id_x\": \"l_manager_id\", \"created_at_y\": \"date_of_registration\",\n",
    "                        'created_at_x':'created_at','created_at':'date_of_transaction' })\n",
    "df = df.drop(['manager_id', 'l_manager_id_y', 'client_id'],axis=1)\n",
    "df.info()\n"
   ]
  },
  {
   "cell_type": "code",
   "execution_count": 9,
   "metadata": {},
   "outputs": [],
   "source": [
    "#get info about merge table. Need to provide necessary types for digits and datetime"
   ]
  },
  {
   "cell_type": "code",
   "execution_count": 10,
   "metadata": {},
   "outputs": [],
   "source": [
    "df['m_real_amount'] = pd.to_numeric(df['m_real_amount'])\n",
    "df['created_at'] = pd.to_datetime(df['created_at'], format='%Y-%m-%d %H:%M:%S', errors='coerce')\n",
    "df['date_of_registration'] = pd.to_datetime(df['date_of_registration'], format='%Y-%m-%d %H:%M:%S', errors='coerce')\n",
    "df['date_of_transaction'] = pd.to_datetime(df['date_of_transaction'], format='%Y-%m-%d %H:%M:%S', errors='coerce')\n"
   ]
  },
  {
   "cell_type": "code",
   "execution_count": 11,
   "metadata": {},
   "outputs": [],
   "source": [
    "#looking for duplicates and wrong names"
   ]
  },
  {
   "cell_type": "code",
   "execution_count": 12,
   "metadata": {},
   "outputs": [
    {
     "data": {
      "text/plain": [
       "array(['viber', 'insta', '', 'instagram', 'utm_source', 'vkontakte',\n",
       "       'google', 'yandex', 'sms', 'vk', 'ycard',\n",
       "       'ycard#!/tproduct/225696739-1498486363994', 'ig', nan],\n",
       "      dtype=object)"
      ]
     },
     "execution_count": 12,
     "metadata": {},
     "output_type": "execute_result"
    }
   ],
   "source": [
    "df['d_utm_source'].unique()"
   ]
  },
  {
   "cell_type": "code",
   "execution_count": 13,
   "metadata": {},
   "outputs": [],
   "source": [
    "#rename duplicates to correctly estimate data\n",
    "df['d_utm_source'] = df['d_utm_source'].replace('vkontakte', 'vk')\n",
    "df['d_utm_source'] = df['d_utm_source'].replace('', np.nan)\n",
    "df['d_utm_source'] = df['d_utm_source'].replace('insta', 'instagram')\n",
    "df['d_utm_source'] = df['d_utm_source'].replace('ig', 'instagram')"
   ]
  },
  {
   "cell_type": "code",
   "execution_count": 14,
   "metadata": {},
   "outputs": [
    {
     "data": {
      "text/plain": [
       "array(['viber', 'instagram', nan, 'utm_source', 'vk', 'google', 'yandex',\n",
       "       'sms', 'ycard', 'ycard#!/tproduct/225696739-1498486363994'],\n",
       "      dtype=object)"
      ]
     },
     "execution_count": 14,
     "metadata": {},
     "output_type": "execute_result"
    }
   ],
   "source": [
    "df['d_utm_source'].unique()"
   ]
  },
  {
   "cell_type": "code",
   "execution_count": 15,
   "metadata": {},
   "outputs": [],
   "source": [
    "df['d_utm_source'] = df['d_utm_source'].replace('ycard#!/tproduct/225696739-1498486363994', 'ycard')\n",
    "df.replace('00000000-0000-0000-0000-000000000000', np.nan, inplace=True)"
   ]
  },
  {
   "cell_type": "code",
   "execution_count": 16,
   "metadata": {},
   "outputs": [
    {
     "data": {
      "text/plain": [
       "array(['viber', 'instagram', nan, 'utm_source', 'vk', 'google', 'yandex',\n",
       "       'sms', 'ycard'], dtype=object)"
      ]
     },
     "execution_count": 16,
     "metadata": {},
     "output_type": "execute_result"
    }
   ],
   "source": [
    "df['d_utm_source'].unique()"
   ]
  },
  {
   "cell_type": "code",
   "execution_count": 17,
   "metadata": {},
   "outputs": [
    {
     "name": "stdout",
     "output_type": "stream",
     "text": [
      "<class 'pandas.core.frame.DataFrame'>\n",
      "Int64Index: 105201 entries, 0 to 105200\n",
      "Data columns (total 12 columns):\n",
      " #   Column                Non-Null Count  Dtype         \n",
      "---  ------                --------------  -----         \n",
      " 0   lead_id               4295 non-null   object        \n",
      " 1   created_at            4295 non-null   datetime64[ns]\n",
      " 2   d_utm_medium          4295 non-null   object        \n",
      " 3   d_utm_source          2763 non-null   object        \n",
      " 4   l_manager_id          3761 non-null   object        \n",
      " 5   l_client_id           30792 non-null  object        \n",
      " 6   d_manager             3670 non-null   object        \n",
      " 7   d_club                3670 non-null   object        \n",
      " 8   date_of_registration  47612 non-null  datetime64[ns]\n",
      " 9   transaction_id        29289 non-null  object        \n",
      " 10  date_of_transaction   29289 non-null  datetime64[ns]\n",
      " 11  m_real_amount         29289 non-null  float64       \n",
      "dtypes: datetime64[ns](3), float64(1), object(8)\n",
      "memory usage: 10.4+ MB\n"
     ]
    }
   ],
   "source": [
    "df.info()"
   ]
  },
  {
   "cell_type": "code",
   "execution_count": 18,
   "metadata": {},
   "outputs": [],
   "source": [
    "#looking for clients who bought within 1 week after lead\n",
    "df['within_week'] = (df['date_of_transaction'] - datetime.timedelta(days=7)) <= (df['created_at'])"
   ]
  },
  {
   "cell_type": "code",
   "execution_count": 19,
   "metadata": {},
   "outputs": [],
   "source": [
    "#looking for trash leads\n",
    "df['no_clients_of_lead'] = (df['lead_id'].notna()) & (df['l_client_id'].isna())"
   ]
  },
  {
   "cell_type": "code",
   "execution_count": 20,
   "metadata": {},
   "outputs": [],
   "source": [
    "#looking for new leads (no transactions and no leads before)\n",
    "df['new_leads'] = (df['lead_id'].isna() & df['transaction_id'].isna())"
   ]
  },
  {
   "cell_type": "code",
   "execution_count": 21,
   "metadata": {},
   "outputs": [],
   "source": [
    "#looking for leads with return of new clients (no lead before but with transaction exists)\n",
    "df['leads_return'] = ((df['lead_id'].notnull()) & (df['transaction_id'].isna()))"
   ]
  },
  {
   "cell_type": "code",
   "execution_count": 22,
   "metadata": {},
   "outputs": [],
   "source": [
    "#looking for leads with return of old clients (transaction dates are older than 3 month)\n",
    "df['three_month'] = ((df['created_at'] - datetime.timedelta(days=90)) >= (df['date_of_transaction'])) & (\n",
    "    df['lead_id'].notnull())"
   ]
  },
  {
   "cell_type": "code",
   "execution_count": 23,
   "metadata": {},
   "outputs": [],
   "source": [
    "#looking for new clients who bougth within 1 week after lead but didnt buy earlier\n",
    "df['new_clients'] = (df['within_week'] & (~(df['transaction_id'].notnull())))\n"
   ]
  },
  {
   "cell_type": "code",
   "execution_count": 24,
   "metadata": {},
   "outputs": [],
   "source": [
    "#making profit column equal to 'm_real_amount' if transactions were within 1 week\n",
    "df.loc[df['within_week'] == True, 'profit'] = df['m_real_amount']"
   ]
  },
  {
   "cell_type": "code",
   "execution_count": 29,
   "metadata": {},
   "outputs": [],
   "source": [
    "#create pivot table from all columns i've made and 3 old columns as a dimensions\n",
    "df_pivot = df.pivot_table(index = ['d_utm_source', 'd_club', 'd_manager'], \n",
    "                          values = ['lead_id',\n",
    "                                    'within_week',\n",
    "                                    'no_clients_of_lead',\n",
    "                                    'new_leads',\n",
    "                                    'leads_return',\n",
    "                                    'three_month',\n",
    "                                    'new_clients',\n",
    "                                    'profit'\n",
    "                                   ], \n",
    "                          aggfunc =({'lead_id':'count',\n",
    "                                    'within_week':['sum'],\n",
    "                                    'no_clients_of_lead':'sum',\n",
    "                                     'new_leads':'sum',\n",
    "                                     'leads_return':'sum',\n",
    "                                     'three_month':'sum',\n",
    "                                     'new_clients':'sum',\n",
    "                                     'profit':'sum'\n",
    "                                     \n",
    "                                    ,}))"
   ]
  },
  {
   "cell_type": "code",
   "execution_count": 30,
   "metadata": {},
   "outputs": [
    {
     "data": {
      "text/html": [
       "<div>\n",
       "<style scoped>\n",
       "    .dataframe tbody tr th:only-of-type {\n",
       "        vertical-align: middle;\n",
       "    }\n",
       "\n",
       "    .dataframe tbody tr th {\n",
       "        vertical-align: top;\n",
       "    }\n",
       "\n",
       "    .dataframe thead th {\n",
       "        text-align: right;\n",
       "    }\n",
       "</style>\n",
       "<table border=\"1\" class=\"dataframe\">\n",
       "  <thead>\n",
       "    <tr style=\"text-align: right;\">\n",
       "      <th></th>\n",
       "      <th></th>\n",
       "      <th></th>\n",
       "      <th>lead_id_count</th>\n",
       "      <th>leads_return</th>\n",
       "      <th>new_clients</th>\n",
       "      <th>new_leads</th>\n",
       "      <th>no_clients_of_lead</th>\n",
       "      <th>profit</th>\n",
       "      <th>three_month</th>\n",
       "      <th>within_week</th>\n",
       "    </tr>\n",
       "    <tr>\n",
       "      <th>d_utm_source</th>\n",
       "      <th>d_club</th>\n",
       "      <th>d_manager</th>\n",
       "      <th></th>\n",
       "      <th></th>\n",
       "      <th></th>\n",
       "      <th></th>\n",
       "      <th></th>\n",
       "      <th></th>\n",
       "      <th></th>\n",
       "      <th></th>\n",
       "    </tr>\n",
       "  </thead>\n",
       "  <tbody>\n",
       "    <tr>\n",
       "      <th rowspan=\"5\" valign=\"top\">google</th>\n",
       "      <th rowspan=\"2\" valign=\"top\">club #1</th>\n",
       "      <th>manager #1</th>\n",
       "      <td>21</td>\n",
       "      <td>17</td>\n",
       "      <td>0</td>\n",
       "      <td>0</td>\n",
       "      <td>9</td>\n",
       "      <td>64811.0</td>\n",
       "      <td>0</td>\n",
       "      <td>3</td>\n",
       "    </tr>\n",
       "    <tr>\n",
       "      <th>manager #7</th>\n",
       "      <td>7</td>\n",
       "      <td>6</td>\n",
       "      <td>0</td>\n",
       "      <td>0</td>\n",
       "      <td>1</td>\n",
       "      <td>9212.0</td>\n",
       "      <td>0</td>\n",
       "      <td>1</td>\n",
       "    </tr>\n",
       "    <tr>\n",
       "      <th rowspan=\"3\" valign=\"top\">club #2</th>\n",
       "      <th>manager #10</th>\n",
       "      <td>43</td>\n",
       "      <td>8</td>\n",
       "      <td>0</td>\n",
       "      <td>0</td>\n",
       "      <td>1</td>\n",
       "      <td>341597.0</td>\n",
       "      <td>21</td>\n",
       "      <td>31</td>\n",
       "    </tr>\n",
       "    <tr>\n",
       "      <th>manager #4</th>\n",
       "      <td>14</td>\n",
       "      <td>5</td>\n",
       "      <td>0</td>\n",
       "      <td>0</td>\n",
       "      <td>0</td>\n",
       "      <td>69703.0</td>\n",
       "      <td>2</td>\n",
       "      <td>7</td>\n",
       "    </tr>\n",
       "    <tr>\n",
       "      <th>manager #8</th>\n",
       "      <td>17</td>\n",
       "      <td>11</td>\n",
       "      <td>0</td>\n",
       "      <td>0</td>\n",
       "      <td>1</td>\n",
       "      <td>217806.0</td>\n",
       "      <td>0</td>\n",
       "      <td>6</td>\n",
       "    </tr>\n",
       "    <tr>\n",
       "      <th>...</th>\n",
       "      <th>...</th>\n",
       "      <th>...</th>\n",
       "      <td>...</td>\n",
       "      <td>...</td>\n",
       "      <td>...</td>\n",
       "      <td>...</td>\n",
       "      <td>...</td>\n",
       "      <td>...</td>\n",
       "      <td>...</td>\n",
       "      <td>...</td>\n",
       "    </tr>\n",
       "    <tr>\n",
       "      <th rowspan=\"5\" valign=\"top\">ycard</th>\n",
       "      <th>club #1</th>\n",
       "      <th>manager #7</th>\n",
       "      <td>3</td>\n",
       "      <td>2</td>\n",
       "      <td>0</td>\n",
       "      <td>0</td>\n",
       "      <td>0</td>\n",
       "      <td>22628.0</td>\n",
       "      <td>0</td>\n",
       "      <td>1</td>\n",
       "    </tr>\n",
       "    <tr>\n",
       "      <th rowspan=\"2\" valign=\"top\">club #2</th>\n",
       "      <th>manager #4</th>\n",
       "      <td>2</td>\n",
       "      <td>1</td>\n",
       "      <td>0</td>\n",
       "      <td>0</td>\n",
       "      <td>0</td>\n",
       "      <td>3670.0</td>\n",
       "      <td>0</td>\n",
       "      <td>1</td>\n",
       "    </tr>\n",
       "    <tr>\n",
       "      <th>manager #8</th>\n",
       "      <td>4</td>\n",
       "      <td>3</td>\n",
       "      <td>0</td>\n",
       "      <td>0</td>\n",
       "      <td>0</td>\n",
       "      <td>79395.0</td>\n",
       "      <td>0</td>\n",
       "      <td>1</td>\n",
       "    </tr>\n",
       "    <tr>\n",
       "      <th>club #3</th>\n",
       "      <th>manager #13</th>\n",
       "      <td>1</td>\n",
       "      <td>1</td>\n",
       "      <td>0</td>\n",
       "      <td>0</td>\n",
       "      <td>0</td>\n",
       "      <td>0.0</td>\n",
       "      <td>0</td>\n",
       "      <td>0</td>\n",
       "    </tr>\n",
       "    <tr>\n",
       "      <th>club #4</th>\n",
       "      <th>manager #2</th>\n",
       "      <td>4</td>\n",
       "      <td>4</td>\n",
       "      <td>0</td>\n",
       "      <td>0</td>\n",
       "      <td>1</td>\n",
       "      <td>0.0</td>\n",
       "      <td>0</td>\n",
       "      <td>0</td>\n",
       "    </tr>\n",
       "  </tbody>\n",
       "</table>\n",
       "<p>84 rows × 8 columns</p>\n",
       "</div>"
      ],
      "text/plain": [
       "                                  lead_id_count  leads_return  new_clients  \\\n",
       "d_utm_source d_club  d_manager                                               \n",
       "google       club #1 manager #1              21            17            0   \n",
       "                     manager #7               7             6            0   \n",
       "             club #2 manager #10             43             8            0   \n",
       "                     manager #4              14             5            0   \n",
       "                     manager #8              17            11            0   \n",
       "...                                         ...           ...          ...   \n",
       "ycard        club #1 manager #7               3             2            0   \n",
       "             club #2 manager #4               2             1            0   \n",
       "                     manager #8               4             3            0   \n",
       "             club #3 manager #13              1             1            0   \n",
       "             club #4 manager #2               4             4            0   \n",
       "\n",
       "                                  new_leads  no_clients_of_lead    profit  \\\n",
       "d_utm_source d_club  d_manager                                              \n",
       "google       club #1 manager #1           0                   9   64811.0   \n",
       "                     manager #7           0                   1    9212.0   \n",
       "             club #2 manager #10          0                   1  341597.0   \n",
       "                     manager #4           0                   0   69703.0   \n",
       "                     manager #8           0                   1  217806.0   \n",
       "...                                     ...                 ...       ...   \n",
       "ycard        club #1 manager #7           0                   0   22628.0   \n",
       "             club #2 manager #4           0                   0    3670.0   \n",
       "                     manager #8           0                   0   79395.0   \n",
       "             club #3 manager #13          0                   0       0.0   \n",
       "             club #4 manager #2           0                   1       0.0   \n",
       "\n",
       "                                  three_month  within_week  \n",
       "d_utm_source d_club  d_manager                              \n",
       "google       club #1 manager #1             0            3  \n",
       "                     manager #7             0            1  \n",
       "             club #2 manager #10           21           31  \n",
       "                     manager #4             2            7  \n",
       "                     manager #8             0            6  \n",
       "...                                       ...          ...  \n",
       "ycard        club #1 manager #7             0            1  \n",
       "             club #2 manager #4             0            1  \n",
       "                     manager #8             0            1  \n",
       "             club #3 manager #13            0            0  \n",
       "             club #4 manager #2             0            0  \n",
       "\n",
       "[84 rows x 8 columns]"
      ]
     },
     "execution_count": 30,
     "metadata": {},
     "output_type": "execute_result"
    }
   ],
   "source": [
    "names = ['lead_id_count',\n",
    "         'leads_return',\n",
    "         'new_clients',\n",
    "         'new_leads',\n",
    "         'no_clients_of_lead', \n",
    "         'profit', \n",
    "         'three_month', \n",
    "         'within_week']\n",
    "df_pivot.set_axis(names,axis = 'columns',inplace = True)\n",
    "df_pivot"
   ]
  },
  {
   "cell_type": "code",
   "execution_count": null,
   "metadata": {},
   "outputs": [],
   "source": []
  }
 ],
 "metadata": {
  "kernelspec": {
   "display_name": "Python 3",
   "language": "python",
   "name": "python3"
  },
  "language_info": {
   "codemirror_mode": {
    "name": "ipython",
    "version": 3
   },
   "file_extension": ".py",
   "mimetype": "text/x-python",
   "name": "python",
   "nbconvert_exporter": "python",
   "pygments_lexer": "ipython3",
   "version": "3.6.10"
  }
 },
 "nbformat": 4,
 "nbformat_minor": 4
}
